{
 "cells": [
  {
   "cell_type": "code",
   "execution_count": 1,
   "id": "4ac879ba",
   "metadata": {
    "execution": {
     "iopub.execute_input": "2025-02-25T06:46:16.403593Z",
     "iopub.status.busy": "2025-02-25T06:46:16.403318Z",
     "iopub.status.idle": "2025-02-25T06:46:21.170944Z",
     "shell.execute_reply": "2025-02-25T06:46:21.169942Z"
    },
    "papermill": {
     "duration": 4.774165,
     "end_time": "2025-02-25T06:46:21.172471",
     "exception": false,
     "start_time": "2025-02-25T06:46:16.398306",
     "status": "completed"
    },
    "tags": []
   },
   "outputs": [
    {
     "name": "stdout",
     "output_type": "stream",
     "text": [
      "\u001b[2K   \u001b[90m━━━━━━━━━━━━━━━━━━━━━━━━━━━━━━━━━━━━━━━━\u001b[0m \u001b[32m96.2/96.2 kB\u001b[0m \u001b[31m2.9 MB/s\u001b[0m eta \u001b[36m0:00:00\u001b[0m\r\n",
      "\u001b[?25h"
     ]
    }
   ],
   "source": [
    "!pip install -q tensorflow-recommenders"
   ]
  },
  {
   "cell_type": "code",
   "execution_count": 2,
   "id": "2f90f889",
   "metadata": {
    "execution": {
     "iopub.execute_input": "2025-02-25T06:46:21.181628Z",
     "iopub.status.busy": "2025-02-25T06:46:21.181382Z",
     "iopub.status.idle": "2025-02-25T06:46:33.006838Z",
     "shell.execute_reply": "2025-02-25T06:46:33.006008Z"
    },
    "papermill": {
     "duration": 11.831403,
     "end_time": "2025-02-25T06:46:33.008167",
     "exception": false,
     "start_time": "2025-02-25T06:46:21.176764",
     "status": "completed"
    },
    "tags": []
   },
   "outputs": [
    {
     "name": "stdout",
     "output_type": "stream",
     "text": [
      "TensorFlow Recommenders version: v0.7.3\n"
     ]
    }
   ],
   "source": [
    "import tensorflow_recommenders as tfrs\n",
    "print(f\"TensorFlow Recommenders version: {tfrs.__version__}\")"
   ]
  },
  {
   "cell_type": "code",
   "execution_count": 3,
   "id": "f4faf4c9",
   "metadata": {
    "execution": {
     "iopub.execute_input": "2025-02-25T06:46:33.017234Z",
     "iopub.status.busy": "2025-02-25T06:46:33.016760Z",
     "iopub.status.idle": "2025-02-25T06:46:34.480393Z",
     "shell.execute_reply": "2025-02-25T06:46:34.479697Z"
    },
    "papermill": {
     "duration": 1.469525,
     "end_time": "2025-02-25T06:46:34.481872",
     "exception": false,
     "start_time": "2025-02-25T06:46:33.012347",
     "status": "completed"
    },
    "tags": []
   },
   "outputs": [],
   "source": [
    "from matplotlib import pyplot as plt\n",
    "import seaborn as sns\n",
    "\n",
    "from sklearn.impute import SimpleImputer"
   ]
  },
  {
   "cell_type": "code",
   "execution_count": 4,
   "id": "dfb7310b",
   "metadata": {
    "_cell_guid": "b1076dfc-b9ad-4769-8c92-a6c4dae69d19",
    "_uuid": "8f2839f25d086af736a60e9eeb907d3b93b6e0e5",
    "execution": {
     "iopub.execute_input": "2025-02-25T06:46:34.490618Z",
     "iopub.status.busy": "2025-02-25T06:46:34.490197Z",
     "iopub.status.idle": "2025-02-25T06:46:43.262779Z",
     "shell.execute_reply": "2025-02-25T06:46:43.262077Z"
    },
    "papermill": {
     "duration": 8.778392,
     "end_time": "2025-02-25T06:46:43.264313",
     "exception": false,
     "start_time": "2025-02-25T06:46:34.485921",
     "status": "completed"
    },
    "tags": []
   },
   "outputs": [],
   "source": [
    "import pandas as pd\n",
    "import numpy as np\n",
    "import tensorflow as tf\n",
    "from tensorflow import keras\n",
    "from tensorflow.keras import layers\n",
    "from sklearn.model_selection import train_test_split\n",
    "from sklearn.preprocessing import StandardScaler, OneHotEncoder\n",
    "from sklearn.compose import ColumnTransformer\n",
    "from sklearn.pipeline import Pipeline\n",
    "\n",
    "# Load the data (you've already done this part)\n",
    "train = pd.read_csv(\"/kaggle/input/playground-series-s5e2/train.csv\")\n",
    "train_extra = pd.read_csv(\"/kaggle/input/playground-series-s5e2/training_extra.csv\")"
   ]
  },
  {
   "cell_type": "code",
   "execution_count": 5,
   "id": "e0074bcb",
   "metadata": {
    "execution": {
     "iopub.execute_input": "2025-02-25T06:46:43.273276Z",
     "iopub.status.busy": "2025-02-25T06:46:43.273044Z",
     "iopub.status.idle": "2025-02-25T06:46:43.688665Z",
     "shell.execute_reply": "2025-02-25T06:46:43.687781Z"
    },
    "papermill": {
     "duration": 0.421554,
     "end_time": "2025-02-25T06:46:43.690137",
     "exception": false,
     "start_time": "2025-02-25T06:46:43.268583",
     "status": "completed"
    },
    "tags": []
   },
   "outputs": [
    {
     "name": "stdout",
     "output_type": "stream",
     "text": [
      "(3994318, 11)\n"
     ]
    },
    {
     "data": {
      "text/html": [
       "<div>\n",
       "<style scoped>\n",
       "    .dataframe tbody tr th:only-of-type {\n",
       "        vertical-align: middle;\n",
       "    }\n",
       "\n",
       "    .dataframe tbody tr th {\n",
       "        vertical-align: top;\n",
       "    }\n",
       "\n",
       "    .dataframe thead th {\n",
       "        text-align: right;\n",
       "    }\n",
       "</style>\n",
       "<table border=\"1\" class=\"dataframe\">\n",
       "  <thead>\n",
       "    <tr style=\"text-align: right;\">\n",
       "      <th></th>\n",
       "      <th>id</th>\n",
       "      <th>Brand</th>\n",
       "      <th>Material</th>\n",
       "      <th>Size</th>\n",
       "      <th>Compartments</th>\n",
       "      <th>Laptop Compartment</th>\n",
       "      <th>Waterproof</th>\n",
       "      <th>Style</th>\n",
       "      <th>Color</th>\n",
       "      <th>Weight Capacity (kg)</th>\n",
       "      <th>Price</th>\n",
       "    </tr>\n",
       "  </thead>\n",
       "  <tbody>\n",
       "    <tr>\n",
       "      <th>0</th>\n",
       "      <td>0</td>\n",
       "      <td>Jansport</td>\n",
       "      <td>Leather</td>\n",
       "      <td>Medium</td>\n",
       "      <td>7.0</td>\n",
       "      <td>Yes</td>\n",
       "      <td>No</td>\n",
       "      <td>Tote</td>\n",
       "      <td>Black</td>\n",
       "      <td>11.611723</td>\n",
       "      <td>112.15875</td>\n",
       "    </tr>\n",
       "    <tr>\n",
       "      <th>1</th>\n",
       "      <td>1</td>\n",
       "      <td>Jansport</td>\n",
       "      <td>Canvas</td>\n",
       "      <td>Small</td>\n",
       "      <td>10.0</td>\n",
       "      <td>Yes</td>\n",
       "      <td>Yes</td>\n",
       "      <td>Messenger</td>\n",
       "      <td>Green</td>\n",
       "      <td>27.078537</td>\n",
       "      <td>68.88056</td>\n",
       "    </tr>\n",
       "    <tr>\n",
       "      <th>2</th>\n",
       "      <td>2</td>\n",
       "      <td>Under Armour</td>\n",
       "      <td>Leather</td>\n",
       "      <td>Small</td>\n",
       "      <td>2.0</td>\n",
       "      <td>Yes</td>\n",
       "      <td>No</td>\n",
       "      <td>Messenger</td>\n",
       "      <td>Red</td>\n",
       "      <td>16.643760</td>\n",
       "      <td>39.17320</td>\n",
       "    </tr>\n",
       "    <tr>\n",
       "      <th>3</th>\n",
       "      <td>3</td>\n",
       "      <td>Nike</td>\n",
       "      <td>Nylon</td>\n",
       "      <td>Small</td>\n",
       "      <td>8.0</td>\n",
       "      <td>Yes</td>\n",
       "      <td>No</td>\n",
       "      <td>Messenger</td>\n",
       "      <td>Green</td>\n",
       "      <td>12.937220</td>\n",
       "      <td>80.60793</td>\n",
       "    </tr>\n",
       "    <tr>\n",
       "      <th>4</th>\n",
       "      <td>4</td>\n",
       "      <td>Adidas</td>\n",
       "      <td>Canvas</td>\n",
       "      <td>Medium</td>\n",
       "      <td>1.0</td>\n",
       "      <td>Yes</td>\n",
       "      <td>Yes</td>\n",
       "      <td>Messenger</td>\n",
       "      <td>Green</td>\n",
       "      <td>17.749338</td>\n",
       "      <td>86.02312</td>\n",
       "    </tr>\n",
       "    <tr>\n",
       "      <th>5</th>\n",
       "      <td>5</td>\n",
       "      <td>Nike</td>\n",
       "      <td>Canvas</td>\n",
       "      <td>Medium</td>\n",
       "      <td>10.0</td>\n",
       "      <td>No</td>\n",
       "      <td>Yes</td>\n",
       "      <td>NaN</td>\n",
       "      <td>Black</td>\n",
       "      <td>7.241812</td>\n",
       "      <td>20.01553</td>\n",
       "    </tr>\n",
       "    <tr>\n",
       "      <th>6</th>\n",
       "      <td>6</td>\n",
       "      <td>Nike</td>\n",
       "      <td>NaN</td>\n",
       "      <td>Large</td>\n",
       "      <td>3.0</td>\n",
       "      <td>No</td>\n",
       "      <td>No</td>\n",
       "      <td>Backpack</td>\n",
       "      <td>Green</td>\n",
       "      <td>6.828123</td>\n",
       "      <td>84.80500</td>\n",
       "    </tr>\n",
       "    <tr>\n",
       "      <th>7</th>\n",
       "      <td>7</td>\n",
       "      <td>Puma</td>\n",
       "      <td>Canvas</td>\n",
       "      <td>Small</td>\n",
       "      <td>1.0</td>\n",
       "      <td>Yes</td>\n",
       "      <td>Yes</td>\n",
       "      <td>Backpack</td>\n",
       "      <td>Blue</td>\n",
       "      <td>21.488864</td>\n",
       "      <td>27.15815</td>\n",
       "    </tr>\n",
       "    <tr>\n",
       "      <th>8</th>\n",
       "      <td>8</td>\n",
       "      <td>Under Armour</td>\n",
       "      <td>Polyester</td>\n",
       "      <td>Medium</td>\n",
       "      <td>8.0</td>\n",
       "      <td>Yes</td>\n",
       "      <td>No</td>\n",
       "      <td>Tote</td>\n",
       "      <td>Gray</td>\n",
       "      <td>10.207780</td>\n",
       "      <td>25.98652</td>\n",
       "    </tr>\n",
       "    <tr>\n",
       "      <th>9</th>\n",
       "      <td>9</td>\n",
       "      <td>Under Armour</td>\n",
       "      <td>Nylon</td>\n",
       "      <td>Medium</td>\n",
       "      <td>2.0</td>\n",
       "      <td>Yes</td>\n",
       "      <td>Yes</td>\n",
       "      <td>Messenger</td>\n",
       "      <td>Pink</td>\n",
       "      <td>15.895100</td>\n",
       "      <td>38.48741</td>\n",
       "    </tr>\n",
       "  </tbody>\n",
       "</table>\n",
       "</div>"
      ],
      "text/plain": [
       "   id         Brand   Material    Size  Compartments Laptop Compartment  \\\n",
       "0   0      Jansport    Leather  Medium           7.0                Yes   \n",
       "1   1      Jansport     Canvas   Small          10.0                Yes   \n",
       "2   2  Under Armour    Leather   Small           2.0                Yes   \n",
       "3   3          Nike      Nylon   Small           8.0                Yes   \n",
       "4   4        Adidas     Canvas  Medium           1.0                Yes   \n",
       "5   5          Nike     Canvas  Medium          10.0                 No   \n",
       "6   6          Nike        NaN   Large           3.0                 No   \n",
       "7   7          Puma     Canvas   Small           1.0                Yes   \n",
       "8   8  Under Armour  Polyester  Medium           8.0                Yes   \n",
       "9   9  Under Armour      Nylon  Medium           2.0                Yes   \n",
       "\n",
       "  Waterproof      Style  Color  Weight Capacity (kg)      Price  \n",
       "0         No       Tote  Black             11.611723  112.15875  \n",
       "1        Yes  Messenger  Green             27.078537   68.88056  \n",
       "2         No  Messenger    Red             16.643760   39.17320  \n",
       "3         No  Messenger  Green             12.937220   80.60793  \n",
       "4        Yes  Messenger  Green             17.749338   86.02312  \n",
       "5        Yes        NaN  Black              7.241812   20.01553  \n",
       "6         No   Backpack  Green              6.828123   84.80500  \n",
       "7        Yes   Backpack   Blue             21.488864   27.15815  \n",
       "8         No       Tote   Gray             10.207780   25.98652  \n",
       "9        Yes  Messenger   Pink             15.895100   38.48741  "
      ]
     },
     "execution_count": 5,
     "metadata": {},
     "output_type": "execute_result"
    }
   ],
   "source": [
    "# Combine datasets for more training data\n",
    "all_train = pd.concat([train, train_extra], ignore_index=True)\n",
    "print(all_train.shape)\n",
    "all_train[:10]"
   ]
  },
  {
   "cell_type": "code",
   "execution_count": 6,
   "id": "ef9df47a",
   "metadata": {
    "execution": {
     "iopub.execute_input": "2025-02-25T06:46:43.699113Z",
     "iopub.status.busy": "2025-02-25T06:46:43.698863Z",
     "iopub.status.idle": "2025-02-25T06:46:44.856003Z",
     "shell.execute_reply": "2025-02-25T06:46:44.855093Z"
    },
    "papermill": {
     "duration": 1.163096,
     "end_time": "2025-02-25T06:46:44.857454",
     "exception": false,
     "start_time": "2025-02-25T06:46:43.694358",
     "status": "completed"
    },
    "tags": []
   },
   "outputs": [
    {
     "data": {
      "text/plain": [
       "id                           0\n",
       "Brand                   126758\n",
       "Material                110962\n",
       "Size                     87785\n",
       "Compartments                 0\n",
       "Laptop Compartment       98533\n",
       "Waterproof               94324\n",
       "Style                   104180\n",
       "Color                   133617\n",
       "Weight Capacity (kg)      1808\n",
       "Price                        0\n",
       "dtype: int64"
      ]
     },
     "execution_count": 6,
     "metadata": {},
     "output_type": "execute_result"
    }
   ],
   "source": [
    "all_train.isnull().sum()"
   ]
  },
  {
   "cell_type": "code",
   "execution_count": 7,
   "id": "3b851420",
   "metadata": {
    "execution": {
     "iopub.execute_input": "2025-02-25T06:46:44.866791Z",
     "iopub.status.busy": "2025-02-25T06:46:44.866556Z",
     "iopub.status.idle": "2025-02-25T06:46:45.678236Z",
     "shell.execute_reply": "2025-02-25T06:46:45.677448Z"
    },
    "papermill": {
     "duration": 0.817519,
     "end_time": "2025-02-25T06:46:45.679534",
     "exception": false,
     "start_time": "2025-02-25T06:46:44.862015",
     "status": "completed"
    },
    "tags": []
   },
   "outputs": [
    {
     "data": {
      "text/html": [
       "<div>\n",
       "<style scoped>\n",
       "    .dataframe tbody tr th:only-of-type {\n",
       "        vertical-align: middle;\n",
       "    }\n",
       "\n",
       "    .dataframe tbody tr th {\n",
       "        vertical-align: top;\n",
       "    }\n",
       "\n",
       "    .dataframe thead th {\n",
       "        text-align: right;\n",
       "    }\n",
       "</style>\n",
       "<table border=\"1\" class=\"dataframe\">\n",
       "  <thead>\n",
       "    <tr style=\"text-align: right;\">\n",
       "      <th></th>\n",
       "      <th>id</th>\n",
       "      <th>Compartments</th>\n",
       "      <th>Weight Capacity (kg)</th>\n",
       "    </tr>\n",
       "  </thead>\n",
       "  <tbody>\n",
       "    <tr>\n",
       "      <th>count</th>\n",
       "      <td>3.994318e+06</td>\n",
       "      <td>3.994318e+06</td>\n",
       "      <td>3.992510e+06</td>\n",
       "    </tr>\n",
       "    <tr>\n",
       "      <th>mean</th>\n",
       "      <td>2.182137e+06</td>\n",
       "      <td>5.434740e+00</td>\n",
       "      <td>1.801042e+01</td>\n",
       "    </tr>\n",
       "    <tr>\n",
       "      <th>std</th>\n",
       "      <td>1.178058e+06</td>\n",
       "      <td>2.893043e+00</td>\n",
       "      <td>6.973969e+00</td>\n",
       "    </tr>\n",
       "    <tr>\n",
       "      <th>min</th>\n",
       "      <td>0.000000e+00</td>\n",
       "      <td>1.000000e+00</td>\n",
       "      <td>5.000000e+00</td>\n",
       "    </tr>\n",
       "    <tr>\n",
       "      <th>25%</th>\n",
       "      <td>1.198579e+06</td>\n",
       "      <td>3.000000e+00</td>\n",
       "      <td>1.206896e+01</td>\n",
       "    </tr>\n",
       "    <tr>\n",
       "      <th>50%</th>\n",
       "      <td>2.197158e+06</td>\n",
       "      <td>5.000000e+00</td>\n",
       "      <td>1.805436e+01</td>\n",
       "    </tr>\n",
       "    <tr>\n",
       "      <th>75%</th>\n",
       "      <td>3.195738e+06</td>\n",
       "      <td>8.000000e+00</td>\n",
       "      <td>2.398751e+01</td>\n",
       "    </tr>\n",
       "    <tr>\n",
       "      <th>max</th>\n",
       "      <td>4.194317e+06</td>\n",
       "      <td>1.000000e+01</td>\n",
       "      <td>3.000000e+01</td>\n",
       "    </tr>\n",
       "  </tbody>\n",
       "</table>\n",
       "</div>"
      ],
      "text/plain": [
       "                 id  Compartments  Weight Capacity (kg)\n",
       "count  3.994318e+06  3.994318e+06          3.992510e+06\n",
       "mean   2.182137e+06  5.434740e+00          1.801042e+01\n",
       "std    1.178058e+06  2.893043e+00          6.973969e+00\n",
       "min    0.000000e+00  1.000000e+00          5.000000e+00\n",
       "25%    1.198579e+06  3.000000e+00          1.206896e+01\n",
       "50%    2.197158e+06  5.000000e+00          1.805436e+01\n",
       "75%    3.195738e+06  8.000000e+00          2.398751e+01\n",
       "max    4.194317e+06  1.000000e+01          3.000000e+01"
      ]
     },
     "metadata": {},
     "output_type": "display_data"
    }
   ],
   "source": [
    "display(all_train.drop(columns=[\"Price\"]).describe())"
   ]
  },
  {
   "cell_type": "code",
   "execution_count": 8,
   "id": "43d4cb1f",
   "metadata": {
    "execution": {
     "iopub.execute_input": "2025-02-25T06:46:45.689044Z",
     "iopub.status.busy": "2025-02-25T06:46:45.688780Z",
     "iopub.status.idle": "2025-02-25T06:46:49.011198Z",
     "shell.execute_reply": "2025-02-25T06:46:49.010298Z"
    },
    "papermill": {
     "duration": 3.328502,
     "end_time": "2025-02-25T06:46:49.012538",
     "exception": false,
     "start_time": "2025-02-25T06:46:45.684036",
     "status": "completed"
    },
    "tags": []
   },
   "outputs": [
    {
     "name": "stderr",
     "output_type": "stream",
     "text": [
      "/usr/local/lib/python3.10/dist-packages/seaborn/_oldcore.py:1119: FutureWarning: use_inf_as_na option is deprecated and will be removed in a future version. Convert inf values to NaN before operating instead.\n",
      "  with pd.option_context('mode.use_inf_as_na', True):\n"
     ]
    },
    {
     "data": {
      "text/plain": [
       "<Axes: xlabel='Weight Capacity (kg)', ylabel='Count'>"
      ]
     },
     "execution_count": 8,
     "metadata": {},
     "output_type": "execute_result"
    },
    {
     "data": {
      "image/png": "[encoded data removed]",
      "text/plain": [
       "<Figure size 640x480 with 1 Axes>"
      ]
     },
     "metadata": {},
     "output_type": "display_data"
    }
   ],
   "source": [
    "sns.histplot(all_train[\"Weight Capacity (kg)\"])"
   ]
  },
  {
   "cell_type": "code",
   "execution_count": 9,
   "id": "88c4b228",
   "metadata": {
    "execution": {
     "iopub.execute_input": "2025-02-25T06:46:49.023221Z",
     "iopub.status.busy": "2025-02-25T06:46:49.022992Z",
     "iopub.status.idle": "2025-02-25T06:46:51.897137Z",
     "shell.execute_reply": "2025-02-25T06:46:51.896285Z"
    },
    "papermill": {
     "duration": 2.881098,
     "end_time": "2025-02-25T06:46:51.898612",
     "exception": false,
     "start_time": "2025-02-25T06:46:49.017514",
     "status": "completed"
    },
    "tags": []
   },
   "outputs": [
    {
     "data": {
      "text/html": [
       "<div>\n",
       "<style scoped>\n",
       "    .dataframe tbody tr th:only-of-type {\n",
       "        vertical-align: middle;\n",
       "    }\n",
       "\n",
       "    .dataframe tbody tr th {\n",
       "        vertical-align: top;\n",
       "    }\n",
       "\n",
       "    .dataframe thead th {\n",
       "        text-align: right;\n",
       "    }\n",
       "</style>\n",
       "<table border=\"1\" class=\"dataframe\">\n",
       "  <thead>\n",
       "    <tr style=\"text-align: right;\">\n",
       "      <th></th>\n",
       "      <th>count</th>\n",
       "      <th>mean</th>\n",
       "      <th>std</th>\n",
       "      <th>min</th>\n",
       "      <th>25%</th>\n",
       "      <th>50%</th>\n",
       "      <th>75%</th>\n",
       "      <th>max</th>\n",
       "    </tr>\n",
       "  </thead>\n",
       "  <tbody>\n",
       "    <tr>\n",
       "      <th>Price</th>\n",
       "      <td>3994318.0</td>\n",
       "      <td>81.362175</td>\n",
       "      <td>38.938684</td>\n",
       "      <td>15.0</td>\n",
       "      <td>47.47002</td>\n",
       "      <td>80.98495</td>\n",
       "      <td>114.855</td>\n",
       "      <td>150.0</td>\n",
       "    </tr>\n",
       "  </tbody>\n",
       "</table>\n",
       "</div>"
      ],
      "text/plain": [
       "           count       mean        std   min       25%       50%      75%  \\\n",
       "Price  3994318.0  81.362175  38.938684  15.0  47.47002  80.98495  114.855   \n",
       "\n",
       "         max  \n",
       "Price  150.0  "
      ]
     },
     "metadata": {},
     "output_type": "display_data"
    },
    {
     "name": "stderr",
     "output_type": "stream",
     "text": [
      "/usr/local/lib/python3.10/dist-packages/seaborn/_oldcore.py:1119: FutureWarning: use_inf_as_na option is deprecated and will be removed in a future version. Convert inf values to NaN before operating instead.\n",
      "  with pd.option_context('mode.use_inf_as_na', True):\n"
     ]
    },
    {
     "data": {
      "text/plain": [
       "<Axes: xlabel='Price', ylabel='Count'>"
      ]
     },
     "execution_count": 9,
     "metadata": {},
     "output_type": "execute_result"
    },
    {
     "data": {
      "image/png": "[encoded data removed]",
      "text/plain": [
       "<Figure size 640x480 with 1 Axes>"
      ]
     },
     "metadata": {},
     "output_type": "display_data"
    }
   ],
   "source": [
    "display(all_train.Price.describe().to_frame().T)\n",
    "\n",
    "sns.histplot(all_train.Price)"
   ]
  },
  {
   "cell_type": "code",
   "execution_count": 10,
   "id": "9120b600",
   "metadata": {
    "execution": {
     "iopub.execute_input": "2025-02-25T06:46:51.912048Z",
     "iopub.status.busy": "2025-02-25T06:46:51.911757Z",
     "iopub.status.idle": "2025-02-25T06:46:52.043356Z",
     "shell.execute_reply": "2025-02-25T06:46:52.042530Z"
    },
    "papermill": {
     "duration": 0.140149,
     "end_time": "2025-02-25T06:46:52.044749",
     "exception": false,
     "start_time": "2025-02-25T06:46:51.904600",
     "status": "completed"
    },
    "tags": []
   },
   "outputs": [
    {
     "name": "stderr",
     "output_type": "stream",
     "text": [
      "<ipython-input-10-5f42238228f6>:5: FutureWarning: A value is trying to be set on a copy of a DataFrame or Series through chained assignment using an inplace method.\n",
      "The behavior will change in pandas 3.0. This inplace method will never work because the intermediate object on which we are setting values always behaves as a copy.\n",
      "\n",
      "For example, when doing 'df[col].method(value, inplace=True)', try using 'df.method({col: value}, inplace=True)' or df[col] = df[col].method(value) instead, to perform the operation inplace on the original object.\n",
      "\n",
      "\n",
      "  all_train['Weight Capacity (kg)'].fillna(median_weight, inplace=True)\n"
     ]
    }
   ],
   "source": [
    "# First, handle missing values\n",
    "if all_train['Weight Capacity (kg)'].isnull().any():\n",
    "    # Impute with the median\n",
    "    median_weight = all_train['Weight Capacity (kg)'].median()\n",
    "    all_train['Weight Capacity (kg)'].fillna(median_weight, inplace=True)\n",
    "\n",
    "# Round to nearest integer to capture the spikes\n",
    "all_train['Weight Capacity Int'] = all_train['Weight Capacity (kg)'].round().astype(int)"
   ]
  },
  {
   "cell_type": "code",
   "execution_count": 11,
   "id": "ddd52303",
   "metadata": {
    "execution": {
     "iopub.execute_input": "2025-02-25T06:46:52.056833Z",
     "iopub.status.busy": "2025-02-25T06:46:52.056576Z",
     "iopub.status.idle": "2025-02-25T06:46:52.060082Z",
     "shell.execute_reply": "2025-02-25T06:46:52.059261Z"
    },
    "papermill": {
     "duration": 0.010745,
     "end_time": "2025-02-25T06:46:52.061323",
     "exception": false,
     "start_time": "2025-02-25T06:46:52.050578",
     "status": "completed"
    },
    "tags": []
   },
   "outputs": [],
   "source": [
    "categorical_features = ['Brand', 'Material', 'Size', 'Laptop Compartment', 'Waterproof', 'Style', 'Color']\n",
    "numerical_features = ['Compartments', 'Weight Capacity Int']\n",
    "target = 'Price'\n",
    "\n"
   ]
  },
  {
   "cell_type": "code",
   "execution_count": 12,
   "id": "cb902f5c",
   "metadata": {
    "execution": {
     "iopub.execute_input": "2025-02-25T06:46:52.072597Z",
     "iopub.status.busy": "2025-02-25T06:46:52.072379Z",
     "iopub.status.idle": "2025-02-25T06:47:04.257328Z",
     "shell.execute_reply": "2025-02-25T06:47:04.256617Z"
    },
    "papermill": {
     "duration": 12.19215,
     "end_time": "2025-02-25T06:47:04.258793",
     "exception": false,
     "start_time": "2025-02-25T06:46:52.066643",
     "status": "completed"
    },
    "tags": []
   },
   "outputs": [],
   "source": [
    "X = all_train.drop(['id', target, 'Weight Capacity (kg)'], axis=1)\n",
    "y = all_train[target]\n",
    "\n",
    "# Split the data\n",
    "X_train, X_val, y_train, y_val = train_test_split(X, y, test_size=0.2, random_state=42)\n",
    "\n",
    "# Create preprocessing pipelines for categorical and numerical features\n",
    "categorical_transformer = Pipeline(steps=[\n",
    "    ('imputer', SimpleImputer(strategy='constant', fill_value='missing')),\n",
    "    ('onehot', OneHotEncoder(handle_unknown='ignore'))\n",
    "])\n",
    "\n",
    "numerical_transformer = Pipeline(steps=[\n",
    "    ('imputer', SimpleImputer(strategy='mean')),\n",
    "    ('scaler', StandardScaler())\n",
    "])\n",
    "\n",
    "# Combine preprocessors\n",
    "preprocessor = ColumnTransformer(\n",
    "    transformers=[\n",
    "        ('num', numerical_transformer, numerical_features),\n",
    "        ('cat', categorical_transformer, categorical_features)\n",
    "    ])\n",
    "\n",
    "# Preprocess the data\n",
    "X_train_preprocessed = preprocessor.fit_transform(X_train)\n",
    "X_val_preprocessed = preprocessor.transform(X_val)"
   ]
  },
  {
   "cell_type": "code",
   "execution_count": 13,
   "id": "7d623112",
   "metadata": {
    "execution": {
     "iopub.execute_input": "2025-02-25T06:47:04.271146Z",
     "iopub.status.busy": "2025-02-25T06:47:04.270895Z",
     "iopub.status.idle": "2025-02-25T06:47:04.274043Z",
     "shell.execute_reply": "2025-02-25T06:47:04.273376Z"
    },
    "papermill": {
     "duration": 0.010559,
     "end_time": "2025-02-25T06:47:04.275286",
     "exception": false,
     "start_time": "2025-02-25T06:47:04.264727",
     "status": "completed"
    },
    "tags": []
   },
   "outputs": [],
   "source": [
    "\n",
    "# Get the input dimensions for the model\n",
    "input_dim = X_train_preprocessed.shape[1]"
   ]
  },
  {
   "cell_type": "code",
   "execution_count": 14,
   "id": "26563e66",
   "metadata": {
    "execution": {
     "iopub.execute_input": "2025-02-25T06:47:04.286741Z",
     "iopub.status.busy": "2025-02-25T06:47:04.286533Z",
     "iopub.status.idle": "2025-02-25T06:47:06.557882Z",
     "shell.execute_reply": "2025-02-25T06:47:06.556981Z"
    },
    "papermill": {
     "duration": 2.278767,
     "end_time": "2025-02-25T06:47:06.559483",
     "exception": false,
     "start_time": "2025-02-25T06:47:04.280716",
     "status": "completed"
    },
    "tags": []
   },
   "outputs": [],
   "source": [
    "def build_model(input_dim):\n",
    "    model = keras.Sequential([\n",
    "        layers.Dense(64, activation='relu', input_shape=(input_dim,)),\n",
    "        layers.BatchNormalization(),\n",
    "        layers.Dropout(0.3),\n",
    "        layers.Dense(32, activation='relu'),\n",
    "        layers.BatchNormalization(),\n",
    "        layers.Dropout(0.2),\n",
    "        layers.Dense(16, activation='relu'),\n",
    "        layers.Dense(1)  # Output layer for regression\n",
    "    ])\n",
    "    \n",
    "    model.compile(\n",
    "        optimizer=keras.optimizers.Adam(learning_rate=0.001),\n",
    "        loss='mean_squared_error',\n",
    "        metrics=['mean_absolute_error', 'mean_squared_error']\n",
    "    )\n",
    "    \n",
    "    return model\n",
    "\n",
    "\n",
    "def build_dcn_model(input_dim, num_cross_layers=2, projection_dim=None):\n",
    "    \"\"\"\n",
    "    Build a Deep & Cross Network model using TFRS implementation\n",
    "    \n",
    "    Args:\n",
    "        input_dim: Dimension of input features\n",
    "        num_cross_layers: Number of cross layers to use\n",
    "        projection_dim: If not None, uses low-rank approximation for cross layers\n",
    "    \"\"\"\n",
    "    # Input layer\n",
    "    inputs = keras.Input(shape=(input_dim,))\n",
    "    \n",
    "    # Cross Network\n",
    "    x_cross = inputs\n",
    "    for _ in range(num_cross_layers):\n",
    "        # Using the TFRS implementation of Cross layer\n",
    "        x_cross = tfrs.layers.dcn.Cross(\n",
    "            projection_dim=projection_dim,\n",
    "            diag_scale=0.1,  # Small value to improve stability\n",
    "            kernel_regularizer=keras.regularizers.l2(1e-4)\n",
    "        )(x_cross)\n",
    "    \n",
    "    # Deep Net\n",
    "    x_deep = keras.layers.Dense(128, activation='relu')(inputs)\n",
    "    x_deep = keras.layers.BatchNormalization()(x_deep)\n",
    "    x_deep = keras.layers.Dropout(0.3)(x_deep)\n",
    "    \n",
    "    x_deep = keras.layers.Dense(64, activation='relu')(x_deep)\n",
    "    x_deep = keras.layers.BatchNormalization()(x_deep)\n",
    "    x_deep = keras.layers.Dropout(0.2)(x_deep)\n",
    "    \n",
    "    x_deep = keras.layers.Dense(32, activation='relu')(x_deep)\n",
    "    x_deep = keras.layers.BatchNormalization()(x_deep)\n",
    "    x_deep = keras.layers.Dropout(0.2)(x_deep)\n",
    "    \n",
    "    x_deep = keras.layers.Dense(16, activation='relu')(x_deep)\n",
    "    \n",
    "    # Combine the two networks\n",
    "    combined = keras.layers.Concatenate()([x_cross, x_deep])\n",
    "    \n",
    "    combined = keras.layers.Dense(32, activation='relu')(combined)\n",
    "    \n",
    "    # Output layer\n",
    "    outputs = keras.layers.Dense(1)(combined)\n",
    "    \n",
    "    # Create the model\n",
    "    model = keras.Model(inputs=inputs, outputs=outputs)\n",
    "    \n",
    "    # Compile\n",
    "    model.compile(\n",
    "        optimizer=keras.optimizers.Adam(learning_rate=0.001),\n",
    "        loss='mean_squared_error',\n",
    "        metrics=['mean_absolute_error']\n",
    "    )\n",
    "    \n",
    "    return model\n",
    "\n",
    "# Create the model (standard)\n",
    "# model = build_model(input_dim)\n",
    "# Create model, DCN\n",
    "model = build_dcn_model(input_dim)\n",
    "\n",
    "# Define callbacks for training\n",
    "early_stopping = keras.callbacks.EarlyStopping(\n",
    "    monitor='val_loss',\n",
    "    patience=10,\n",
    "    restore_best_weights=True\n",
    ")\n",
    "\n",
    "reduce_lr = keras.callbacks.ReduceLROnPlateau(\n",
    "    monitor='val_loss',\n",
    "    factor=0.2,\n",
    "    patience=5,\n",
    "    min_lr=0.0001\n",
    ")"
   ]
  },
  {
   "cell_type": "code",
   "execution_count": 15,
   "id": "ec422dc5",
   "metadata": {
    "execution": {
     "iopub.execute_input": "2025-02-25T06:47:06.571575Z",
     "iopub.status.busy": "2025-02-25T06:47:06.571305Z",
     "iopub.status.idle": "2025-02-25T06:48:23.732493Z",
     "shell.execute_reply": "2025-02-25T06:48:23.731531Z"
    },
    "papermill": {
     "duration": 77.168875,
     "end_time": "2025-02-25T06:48:23.734145",
     "exception": false,
     "start_time": "2025-02-25T06:47:06.565270",
     "status": "completed"
    },
    "tags": []
   },
   "outputs": [
    {
     "name": "stdout",
     "output_type": "stream",
     "text": [
      "Epoch 1/5\n",
      "\u001b[1m3121/3121\u001b[0m \u001b[32m━━━━━━━━━━━━━━━━━━━━\u001b[0m\u001b[37m\u001b[0m \u001b[1m25s\u001b[0m 6ms/step - loss: 2279.1643 - mean_absolute_error: 39.2371 - val_loss: 1515.3527 - val_mean_absolute_error: 33.6520 - learning_rate: 0.0010\n",
      "Epoch 2/5\n",
      "\u001b[1m3121/3121\u001b[0m \u001b[32m━━━━━━━━━━━━━━━━━━━━\u001b[0m\u001b[37m\u001b[0m \u001b[1m12s\u001b[0m 4ms/step - loss: 1517.0428 - mean_absolute_error: 33.6785 - val_loss: 1515.6718 - val_mean_absolute_error: 33.6485 - learning_rate: 0.0010\n",
      "Epoch 3/5\n",
      "\u001b[1m3121/3121\u001b[0m \u001b[32m━━━━━━━━━━━━━━━━━━━━\u001b[0m\u001b[37m\u001b[0m \u001b[1m12s\u001b[0m 4ms/step - loss: 1515.3169 - mean_absolute_error: 33.6518 - val_loss: 1513.5276 - val_mean_absolute_error: 33.6370 - learning_rate: 0.0010\n",
      "Epoch 4/5\n",
      "\u001b[1m3121/3121\u001b[0m \u001b[32m━━━━━━━━━━━━━━━━━━━━\u001b[0m\u001b[37m\u001b[0m \u001b[1m13s\u001b[0m 4ms/step - loss: 1515.3745 - mean_absolute_error: 33.6559 - val_loss: 1513.5089 - val_mean_absolute_error: 33.6340 - learning_rate: 0.0010\n",
      "Epoch 5/5\n",
      "\u001b[1m3121/3121\u001b[0m \u001b[32m━━━━━━━━━━━━━━━━━━━━\u001b[0m\u001b[37m\u001b[0m \u001b[1m12s\u001b[0m 4ms/step - loss: 1515.1588 - mean_absolute_error: 33.6544 - val_loss: 1513.2590 - val_mean_absolute_error: 33.6321 - learning_rate: 0.0010\n"
     ]
    }
   ],
   "source": [
    "history = model.fit(\n",
    "    X_train_preprocessed, y_train,\n",
    "    epochs=5,\n",
    "    batch_size=1024,\n",
    "    # steps_per_epoch=1000, # comment for full data\n",
    "    # validation_steps=1000,\n",
    "    validation_data=(X_val_preprocessed, y_val),\n",
    "    callbacks=[early_stopping, reduce_lr],\n",
    "    verbose=1\n",
    ")"
   ]
  },
  {
   "cell_type": "code",
   "execution_count": 16,
   "id": "abb4e3c4",
   "metadata": {
    "execution": {
     "iopub.execute_input": "2025-02-25T06:48:23.845093Z",
     "iopub.status.busy": "2025-02-25T06:48:23.844816Z",
     "iopub.status.idle": "2025-02-25T06:48:23.849150Z",
     "shell.execute_reply": "2025-02-25T06:48:23.848481Z"
    },
    "papermill": {
     "duration": 0.060869,
     "end_time": "2025-02-25T06:48:23.850381",
     "exception": false,
     "start_time": "2025-02-25T06:48:23.789512",
     "status": "completed"
    },
    "tags": []
   },
   "outputs": [],
   "source": [
    "# Function to make predictions on test data\n",
    "def predict_price(model, preprocessor, new_data):\n",
    "    # We need to apply the same preprocessing to test data\n",
    "    if 'Weight Capacity (kg)' in new_data.columns:\n",
    "        # Handle missing values\n",
    "        if new_data['Weight Capacity (kg)'].isnull().any():\n",
    "            median_weight = new_data['Weight Capacity (kg)'].median()\n",
    "            new_data['Weight Capacity (kg)'].fillna(median_weight, inplace=True)\n",
    "        \n",
    "        # Round to nearest integer\n",
    "        new_data['Weight Capacity Int'] = new_data['Weight Capacity (kg)'].round().astype(int)\n",
    "        \n",
    "        # Drop the columns we don't need\n",
    "        new_data = new_data.drop(['Weight Capacity (kg)'], axis=1)\n",
    "    \n",
    "    # Transform the data and predict\n",
    "    new_data_preprocessed = preprocessor.transform(new_data)\n",
    "    predictions = model.predict(new_data_preprocessed)\n",
    "    return predictions\n"
   ]
  },
  {
   "cell_type": "code",
   "execution_count": 17,
   "id": "7287ce95",
   "metadata": {
    "execution": {
     "iopub.execute_input": "2025-02-25T06:48:23.957212Z",
     "iopub.status.busy": "2025-02-25T06:48:23.956946Z",
     "iopub.status.idle": "2025-02-25T06:48:24.301529Z",
     "shell.execute_reply": "2025-02-25T06:48:24.300608Z"
    },
    "papermill": {
     "duration": 0.399266,
     "end_time": "2025-02-25T06:48:24.302798",
     "exception": false,
     "start_time": "2025-02-25T06:48:23.903532",
     "status": "completed"
    },
    "tags": []
   },
   "outputs": [
    {
     "name": "stdout",
     "output_type": "stream",
     "text": [
      "Test shape (200000, 10)\n"
     ]
    },
    {
     "data": {
      "text/html": [
       "<div>\n",
       "<style scoped>\n",
       "    .dataframe tbody tr th:only-of-type {\n",
       "        vertical-align: middle;\n",
       "    }\n",
       "\n",
       "    .dataframe tbody tr th {\n",
       "        vertical-align: top;\n",
       "    }\n",
       "\n",
       "    .dataframe thead th {\n",
       "        text-align: right;\n",
       "    }\n",
       "</style>\n",
       "<table border=\"1\" class=\"dataframe\">\n",
       "  <thead>\n",
       "    <tr style=\"text-align: right;\">\n",
       "      <th></th>\n",
       "      <th>id</th>\n",
       "      <th>Brand</th>\n",
       "      <th>Material</th>\n",
       "      <th>Size</th>\n",
       "      <th>Compartments</th>\n",
       "      <th>Laptop Compartment</th>\n",
       "      <th>Waterproof</th>\n",
       "      <th>Style</th>\n",
       "      <th>Color</th>\n",
       "      <th>Weight Capacity (kg)</th>\n",
       "    </tr>\n",
       "  </thead>\n",
       "  <tbody>\n",
       "    <tr>\n",
       "      <th>0</th>\n",
       "      <td>300000</td>\n",
       "      <td>Puma</td>\n",
       "      <td>Leather</td>\n",
       "      <td>Small</td>\n",
       "      <td>2.0</td>\n",
       "      <td>No</td>\n",
       "      <td>No</td>\n",
       "      <td>Tote</td>\n",
       "      <td>Green</td>\n",
       "      <td>20.671147</td>\n",
       "    </tr>\n",
       "    <tr>\n",
       "      <th>1</th>\n",
       "      <td>300001</td>\n",
       "      <td>Nike</td>\n",
       "      <td>Canvas</td>\n",
       "      <td>Medium</td>\n",
       "      <td>7.0</td>\n",
       "      <td>No</td>\n",
       "      <td>Yes</td>\n",
       "      <td>Backpack</td>\n",
       "      <td>Green</td>\n",
       "      <td>13.564105</td>\n",
       "    </tr>\n",
       "    <tr>\n",
       "      <th>2</th>\n",
       "      <td>300002</td>\n",
       "      <td>Adidas</td>\n",
       "      <td>Canvas</td>\n",
       "      <td>Large</td>\n",
       "      <td>9.0</td>\n",
       "      <td>No</td>\n",
       "      <td>Yes</td>\n",
       "      <td>Messenger</td>\n",
       "      <td>Blue</td>\n",
       "      <td>11.809799</td>\n",
       "    </tr>\n",
       "    <tr>\n",
       "      <th>3</th>\n",
       "      <td>300003</td>\n",
       "      <td>Adidas</td>\n",
       "      <td>Nylon</td>\n",
       "      <td>Large</td>\n",
       "      <td>1.0</td>\n",
       "      <td>Yes</td>\n",
       "      <td>No</td>\n",
       "      <td>Messenger</td>\n",
       "      <td>Green</td>\n",
       "      <td>18.477036</td>\n",
       "    </tr>\n",
       "    <tr>\n",
       "      <th>4</th>\n",
       "      <td>300004</td>\n",
       "      <td>NaN</td>\n",
       "      <td>Nylon</td>\n",
       "      <td>Large</td>\n",
       "      <td>2.0</td>\n",
       "      <td>Yes</td>\n",
       "      <td>Yes</td>\n",
       "      <td>Tote</td>\n",
       "      <td>Black</td>\n",
       "      <td>9.907953</td>\n",
       "    </tr>\n",
       "  </tbody>\n",
       "</table>\n",
       "</div>"
      ],
      "text/plain": [
       "       id   Brand Material    Size  Compartments Laptop Compartment  \\\n",
       "0  300000    Puma  Leather   Small           2.0                 No   \n",
       "1  300001    Nike   Canvas  Medium           7.0                 No   \n",
       "2  300002  Adidas   Canvas   Large           9.0                 No   \n",
       "3  300003  Adidas    Nylon   Large           1.0                Yes   \n",
       "4  300004     NaN    Nylon   Large           2.0                Yes   \n",
       "\n",
       "  Waterproof      Style  Color  Weight Capacity (kg)  \n",
       "0         No       Tote  Green             20.671147  \n",
       "1        Yes   Backpack  Green             13.564105  \n",
       "2        Yes  Messenger   Blue             11.809799  \n",
       "3         No  Messenger  Green             18.477036  \n",
       "4        Yes       Tote  Black              9.907953  "
      ]
     },
     "execution_count": 17,
     "metadata": {},
     "output_type": "execute_result"
    }
   ],
   "source": [
    "test = pd.read_csv(\"/kaggle/input/playground-series-s5e2/test.csv\")\n",
    "print(\"Test shape\", test.shape )\n",
    "test[:5]"
   ]
  },
  {
   "cell_type": "code",
   "execution_count": 18,
   "id": "ef57ed33",
   "metadata": {
    "execution": {
     "iopub.execute_input": "2025-02-25T06:48:24.414326Z",
     "iopub.status.busy": "2025-02-25T06:48:24.414029Z",
     "iopub.status.idle": "2025-02-25T06:48:40.218569Z",
     "shell.execute_reply": "2025-02-25T06:48:40.217586Z"
    },
    "papermill": {
     "duration": 15.860734,
     "end_time": "2025-02-25T06:48:40.220308",
     "exception": false,
     "start_time": "2025-02-25T06:48:24.359574",
     "status": "completed"
    },
    "tags": []
   },
   "outputs": [
    {
     "name": "stderr",
     "output_type": "stream",
     "text": [
      "<ipython-input-16-98d6baecae21>:8: FutureWarning: A value is trying to be set on a copy of a DataFrame or Series through chained assignment using an inplace method.\n",
      "The behavior will change in pandas 3.0. This inplace method will never work because the intermediate object on which we are setting values always behaves as a copy.\n",
      "\n",
      "For example, when doing 'df[col].method(value, inplace=True)', try using 'df.method({col: value}, inplace=True)' or df[col] = df[col].method(value) instead, to perform the operation inplace on the original object.\n",
      "\n",
      "\n",
      "  new_data['Weight Capacity (kg)'].fillna(median_weight, inplace=True)\n"
     ]
    },
    {
     "name": "stdout",
     "output_type": "stream",
     "text": [
      "\u001b[1m6250/6250\u001b[0m \u001b[32m━━━━━━━━━━━━━━━━━━━━\u001b[0m\u001b[37m\u001b[0m \u001b[1m12s\u001b[0m 2ms/step\n"
     ]
    }
   ],
   "source": [
    "preds = predict_price(model, preprocessor, test)"
   ]
  },
  {
   "cell_type": "code",
   "execution_count": 19,
   "id": "78ae1fa2",
   "metadata": {
    "execution": {
     "iopub.execute_input": "2025-02-25T06:48:40.351555Z",
     "iopub.status.busy": "2025-02-25T06:48:40.351267Z",
     "iopub.status.idle": "2025-02-25T06:48:40.661004Z",
     "shell.execute_reply": "2025-02-25T06:48:40.660178Z"
    },
    "papermill": {
     "duration": 0.376772,
     "end_time": "2025-02-25T06:48:40.662531",
     "exception": false,
     "start_time": "2025-02-25T06:48:40.285759",
     "status": "completed"
    },
    "tags": []
   },
   "outputs": [
    {
     "data": {
      "text/html": [
       "<div>\n",
       "<style scoped>\n",
       "    .dataframe tbody tr th:only-of-type {\n",
       "        vertical-align: middle;\n",
       "    }\n",
       "\n",
       "    .dataframe tbody tr th {\n",
       "        vertical-align: top;\n",
       "    }\n",
       "\n",
       "    .dataframe thead th {\n",
       "        text-align: right;\n",
       "    }\n",
       "</style>\n",
       "<table border=\"1\" class=\"dataframe\">\n",
       "  <thead>\n",
       "    <tr style=\"text-align: right;\">\n",
       "      <th></th>\n",
       "      <th>id</th>\n",
       "      <th>Price</th>\n",
       "    </tr>\n",
       "  </thead>\n",
       "  <tbody>\n",
       "    <tr>\n",
       "      <th>0</th>\n",
       "      <td>300000</td>\n",
       "      <td>81.522156</td>\n",
       "    </tr>\n",
       "    <tr>\n",
       "      <th>1</th>\n",
       "      <td>300001</td>\n",
       "      <td>83.120911</td>\n",
       "    </tr>\n",
       "    <tr>\n",
       "      <th>2</th>\n",
       "      <td>300002</td>\n",
       "      <td>82.007141</td>\n",
       "    </tr>\n",
       "    <tr>\n",
       "      <th>3</th>\n",
       "      <td>300003</td>\n",
       "      <td>80.757401</td>\n",
       "    </tr>\n",
       "    <tr>\n",
       "      <th>4</th>\n",
       "      <td>300004</td>\n",
       "      <td>77.623260</td>\n",
       "    </tr>\n",
       "  </tbody>\n",
       "</table>\n",
       "</div>"
      ],
      "text/plain": [
       "       id      Price\n",
       "0  300000  81.522156\n",
       "1  300001  83.120911\n",
       "2  300002  82.007141\n",
       "3  300003  80.757401\n",
       "4  300004  77.623260"
      ]
     },
     "execution_count": 19,
     "metadata": {},
     "output_type": "execute_result"
    }
   ],
   "source": [
    "sub = pd.read_csv(\"/kaggle/input/playground-series-s5e2/sample_submission.csv\")\n",
    "sub.Price = preds\n",
    "sub.to_csv(f\"submission.csv\",index=False)\n",
    "sub.head()"
   ]
  },
  {
   "cell_type": "code",
   "execution_count": null,
   "id": "0a343cf5",
   "metadata": {
    "papermill": {
     "duration": 0.064155,
     "end_time": "2025-02-25T06:48:40.833101",
     "exception": false,
     "start_time": "2025-02-25T06:48:40.768946",
     "status": "completed"
    },
    "tags": []
   },
   "outputs": [],
   "source": []
  }
 ],
 "metadata": {
  "kaggle": {
   "accelerator": "nvidiaTeslaT4",
   "dataSources": [
    {
     "databundleVersionId": 10995111,
     "sourceId": 90274,
     "sourceType": "competition"
    }
   ],
   "dockerImageVersionId": 30919,
   "isGpuEnabled": true,
   "isInternetEnabled": true,
   "language": "python",
   "sourceType": "notebook"
  },
  "kernelspec": {
   "display_name": "Python 3",
   "language": "python",
   "name": "python3"
  },
  "language_info": {
   "codemirror_mode": {
    "name": "ipython",
    "version": 3
   },
   "file_extension": ".py",
   "mimetype": "text/x-python",
   "name": "python",
   "nbconvert_exporter": "python",
   "pygments_lexer": "ipython3",
   "version": "3.10.12"
  },
  "papermill": {
   "default_parameters": {},
   "duration": 149.875913,
   "end_time": "2025-02-25T06:48:43.745535",
   "environment_variables": {},
   "exception": null,
   "input_path": "__notebook__.ipynb",
   "output_path": "__notebook__.ipynb",
   "parameters": {},
   "start_time": "2025-02-25T06:46:13.869622",
   "version": "2.6.0"
  }
 },
 "nbformat": 4,
 "nbformat_minor": 5
}
